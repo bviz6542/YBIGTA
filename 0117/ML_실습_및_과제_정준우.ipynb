{
  "nbformat": 4,
  "nbformat_minor": 0,
  "metadata": {
    "colab": {
      "provenance": []
    },
    "kernelspec": {
      "name": "python3",
      "display_name": "Python 3"
    },
    "language_info": {
      "name": "python"
    },
    "accelerator": "GPU",
    "gpuClass": "standard"
  },
  "cells": [
    {
      "cell_type": "markdown",
      "source": [
        "실습 및 과제에 해당하는 내용은 [파이썬 머신러닝 완벽가이드]와 kaggle에서 참고했습니다.\n",
        "\n",
        "kaggle 링크 : https://www.kaggle.com/competitions/bike-sharing-demand/data"
      ],
      "metadata": {
        "id": "cP_K39J9V4AO"
      }
    },
    {
      "cell_type": "code",
      "source": [
        "from google.colab import drive\n",
        "drive.mount('/content/gdrive')"
      ],
      "metadata": {
        "colab": {
          "base_uri": "https://localhost:8080/"
        },
        "id": "FsUkrQzwDjBT",
        "outputId": "201b64fb-b2af-4539-9b44-457a8d9dbde7"
      },
      "execution_count": 2,
      "outputs": [
        {
          "output_type": "stream",
          "name": "stdout",
          "text": [
            "Mounted at /content/gdrive\n"
          ]
        }
      ]
    },
    {
      "cell_type": "code",
      "execution_count": 3,
      "metadata": {
        "id": "kYeGkKxu862E"
      },
      "outputs": [],
      "source": [
        "import numpy as np\n",
        "import pandas as pd\n",
        "import seaborn as sns\n",
        "import matplotlib.pyplot as plt\n",
        "\n",
        "%matplotlib inline\n",
        "\n",
        "import warnings\n",
        "warnings.filterwarnings(\"ignore\", category=RuntimeWarning)"
      ]
    },
    {
      "cell_type": "markdown",
      "source": [
        "# **데이터 설명**\n",
        "*   datetime : hourly date + timetstamp\n",
        "*   season : 1 = 봄, 2 = 여름, 3 = 가을, 4 = 겨울\n",
        "*   holiday : 1 = 토, 일요일의 주말을 제외한 국격일 등의 휴일, 0 =휴일이 아닌 날\n",
        "*   workingday : 1 = 토, 일요일의 주말 및 휴일이 아닌 주중, 0 = 주말 및 휴일\n",
        "*   weather : 1 = 맑음, 약간 구름낀 흐림, 2 = 안개, 안개 + 흐림, 3 = 가벼운 눈, 가벼운 비 + 천둥, 4 = 심한 눈/비, 천둥/번개\n",
        "*   temp : 온도(섭씨)\n",
        "*   atemp :체감온도(섭씨)\n",
        "*   humidity : 상대 습도\n",
        "*   windspeed : 풍속\n",
        "*   casual : 사전에 등록되지 않는 사용자가 대여한 횟수\n",
        "*   registered : 사전에 등록된 사용자가 대여한 횟수\n",
        "*   count : 대여 횟수"
      ],
      "metadata": {
        "id": "mUXYq_F1MDgL"
      }
    },
    {
      "cell_type": "markdown",
      "source": [
        "# 데이터 불러오기"
      ],
      "metadata": {
        "id": "X_VzaAuXNZbq"
      }
    },
    {
      "cell_type": "code",
      "source": [
        "bike_df = pd.read_csv('/content/gdrive/MyDrive/ybigta/bike_train.csv')\n",
        "print(bike_df.shape)\n",
        "bike_df.head()"
      ],
      "metadata": {
        "colab": {
          "base_uri": "https://localhost:8080/",
          "height": 224
        },
        "id": "g45qHgelC0Rn",
        "outputId": "8a1c6d69-60c6-4777-d750-4eb93a6d0551"
      },
      "execution_count": 4,
      "outputs": [
        {
          "output_type": "stream",
          "name": "stdout",
          "text": [
            "(10886, 12)\n"
          ]
        },
        {
          "output_type": "execute_result",
          "data": {
            "text/plain": [
              "              datetime  season  holiday  workingday  weather  temp   atemp  \\\n",
              "0  2011-01-01 00:00:00       1        0           0        1  9.84  14.395   \n",
              "1  2011-01-01 01:00:00       1        0           0        1  9.02  13.635   \n",
              "2  2011-01-01 02:00:00       1        0           0        1  9.02  13.635   \n",
              "3  2011-01-01 03:00:00       1        0           0        1  9.84  14.395   \n",
              "4  2011-01-01 04:00:00       1        0           0        1  9.84  14.395   \n",
              "\n",
              "   humidity  windspeed  casual  registered  count  \n",
              "0        81        0.0       3          13     16  \n",
              "1        80        0.0       8          32     40  \n",
              "2        80        0.0       5          27     32  \n",
              "3        75        0.0       3          10     13  \n",
              "4        75        0.0       0           1      1  "
            ],
            "text/html": [
              "\n",
              "  <div id=\"df-533c15ad-05b6-4979-b69c-fff83a6588d1\">\n",
              "    <div class=\"colab-df-container\">\n",
              "      <div>\n",
              "<style scoped>\n",
              "    .dataframe tbody tr th:only-of-type {\n",
              "        vertical-align: middle;\n",
              "    }\n",
              "\n",
              "    .dataframe tbody tr th {\n",
              "        vertical-align: top;\n",
              "    }\n",
              "\n",
              "    .dataframe thead th {\n",
              "        text-align: right;\n",
              "    }\n",
              "</style>\n",
              "<table border=\"1\" class=\"dataframe\">\n",
              "  <thead>\n",
              "    <tr style=\"text-align: right;\">\n",
              "      <th></th>\n",
              "      <th>datetime</th>\n",
              "      <th>season</th>\n",
              "      <th>holiday</th>\n",
              "      <th>workingday</th>\n",
              "      <th>weather</th>\n",
              "      <th>temp</th>\n",
              "      <th>atemp</th>\n",
              "      <th>humidity</th>\n",
              "      <th>windspeed</th>\n",
              "      <th>casual</th>\n",
              "      <th>registered</th>\n",
              "      <th>count</th>\n",
              "    </tr>\n",
              "  </thead>\n",
              "  <tbody>\n",
              "    <tr>\n",
              "      <th>0</th>\n",
              "      <td>2011-01-01 00:00:00</td>\n",
              "      <td>1</td>\n",
              "      <td>0</td>\n",
              "      <td>0</td>\n",
              "      <td>1</td>\n",
              "      <td>9.84</td>\n",
              "      <td>14.395</td>\n",
              "      <td>81</td>\n",
              "      <td>0.0</td>\n",
              "      <td>3</td>\n",
              "      <td>13</td>\n",
              "      <td>16</td>\n",
              "    </tr>\n",
              "    <tr>\n",
              "      <th>1</th>\n",
              "      <td>2011-01-01 01:00:00</td>\n",
              "      <td>1</td>\n",
              "      <td>0</td>\n",
              "      <td>0</td>\n",
              "      <td>1</td>\n",
              "      <td>9.02</td>\n",
              "      <td>13.635</td>\n",
              "      <td>80</td>\n",
              "      <td>0.0</td>\n",
              "      <td>8</td>\n",
              "      <td>32</td>\n",
              "      <td>40</td>\n",
              "    </tr>\n",
              "    <tr>\n",
              "      <th>2</th>\n",
              "      <td>2011-01-01 02:00:00</td>\n",
              "      <td>1</td>\n",
              "      <td>0</td>\n",
              "      <td>0</td>\n",
              "      <td>1</td>\n",
              "      <td>9.02</td>\n",
              "      <td>13.635</td>\n",
              "      <td>80</td>\n",
              "      <td>0.0</td>\n",
              "      <td>5</td>\n",
              "      <td>27</td>\n",
              "      <td>32</td>\n",
              "    </tr>\n",
              "    <tr>\n",
              "      <th>3</th>\n",
              "      <td>2011-01-01 03:00:00</td>\n",
              "      <td>1</td>\n",
              "      <td>0</td>\n",
              "      <td>0</td>\n",
              "      <td>1</td>\n",
              "      <td>9.84</td>\n",
              "      <td>14.395</td>\n",
              "      <td>75</td>\n",
              "      <td>0.0</td>\n",
              "      <td>3</td>\n",
              "      <td>10</td>\n",
              "      <td>13</td>\n",
              "    </tr>\n",
              "    <tr>\n",
              "      <th>4</th>\n",
              "      <td>2011-01-01 04:00:00</td>\n",
              "      <td>1</td>\n",
              "      <td>0</td>\n",
              "      <td>0</td>\n",
              "      <td>1</td>\n",
              "      <td>9.84</td>\n",
              "      <td>14.395</td>\n",
              "      <td>75</td>\n",
              "      <td>0.0</td>\n",
              "      <td>0</td>\n",
              "      <td>1</td>\n",
              "      <td>1</td>\n",
              "    </tr>\n",
              "  </tbody>\n",
              "</table>\n",
              "</div>\n",
              "      <button class=\"colab-df-convert\" onclick=\"convertToInteractive('df-533c15ad-05b6-4979-b69c-fff83a6588d1')\"\n",
              "              title=\"Convert this dataframe to an interactive table.\"\n",
              "              style=\"display:none;\">\n",
              "        \n",
              "  <svg xmlns=\"http://www.w3.org/2000/svg\" height=\"24px\"viewBox=\"0 0 24 24\"\n",
              "       width=\"24px\">\n",
              "    <path d=\"M0 0h24v24H0V0z\" fill=\"none\"/>\n",
              "    <path d=\"M18.56 5.44l.94 2.06.94-2.06 2.06-.94-2.06-.94-.94-2.06-.94 2.06-2.06.94zm-11 1L8.5 8.5l.94-2.06 2.06-.94-2.06-.94L8.5 2.5l-.94 2.06-2.06.94zm10 10l.94 2.06.94-2.06 2.06-.94-2.06-.94-.94-2.06-.94 2.06-2.06.94z\"/><path d=\"M17.41 7.96l-1.37-1.37c-.4-.4-.92-.59-1.43-.59-.52 0-1.04.2-1.43.59L10.3 9.45l-7.72 7.72c-.78.78-.78 2.05 0 2.83L4 21.41c.39.39.9.59 1.41.59.51 0 1.02-.2 1.41-.59l7.78-7.78 2.81-2.81c.8-.78.8-2.07 0-2.86zM5.41 20L4 18.59l7.72-7.72 1.47 1.35L5.41 20z\"/>\n",
              "  </svg>\n",
              "      </button>\n",
              "      \n",
              "  <style>\n",
              "    .colab-df-container {\n",
              "      display:flex;\n",
              "      flex-wrap:wrap;\n",
              "      gap: 12px;\n",
              "    }\n",
              "\n",
              "    .colab-df-convert {\n",
              "      background-color: #E8F0FE;\n",
              "      border: none;\n",
              "      border-radius: 50%;\n",
              "      cursor: pointer;\n",
              "      display: none;\n",
              "      fill: #1967D2;\n",
              "      height: 32px;\n",
              "      padding: 0 0 0 0;\n",
              "      width: 32px;\n",
              "    }\n",
              "\n",
              "    .colab-df-convert:hover {\n",
              "      background-color: #E2EBFA;\n",
              "      box-shadow: 0px 1px 2px rgba(60, 64, 67, 0.3), 0px 1px 3px 1px rgba(60, 64, 67, 0.15);\n",
              "      fill: #174EA6;\n",
              "    }\n",
              "\n",
              "    [theme=dark] .colab-df-convert {\n",
              "      background-color: #3B4455;\n",
              "      fill: #D2E3FC;\n",
              "    }\n",
              "\n",
              "    [theme=dark] .colab-df-convert:hover {\n",
              "      background-color: #434B5C;\n",
              "      box-shadow: 0px 1px 3px 1px rgba(0, 0, 0, 0.15);\n",
              "      filter: drop-shadow(0px 1px 2px rgba(0, 0, 0, 0.3));\n",
              "      fill: #FFFFFF;\n",
              "    }\n",
              "  </style>\n",
              "\n",
              "      <script>\n",
              "        const buttonEl =\n",
              "          document.querySelector('#df-533c15ad-05b6-4979-b69c-fff83a6588d1 button.colab-df-convert');\n",
              "        buttonEl.style.display =\n",
              "          google.colab.kernel.accessAllowed ? 'block' : 'none';\n",
              "\n",
              "        async function convertToInteractive(key) {\n",
              "          const element = document.querySelector('#df-533c15ad-05b6-4979-b69c-fff83a6588d1');\n",
              "          const dataTable =\n",
              "            await google.colab.kernel.invokeFunction('convertToInteractive',\n",
              "                                                     [key], {});\n",
              "          if (!dataTable) return;\n",
              "\n",
              "          const docLinkHtml = 'Like what you see? Visit the ' +\n",
              "            '<a target=\"_blank\" href=https://colab.research.google.com/notebooks/data_table.ipynb>data table notebook</a>'\n",
              "            + ' to learn more about interactive tables.';\n",
              "          element.innerHTML = '';\n",
              "          dataTable['output_type'] = 'display_data';\n",
              "          await google.colab.output.renderOutput(dataTable, element);\n",
              "          const docLink = document.createElement('div');\n",
              "          docLink.innerHTML = docLinkHtml;\n",
              "          element.appendChild(docLink);\n",
              "        }\n",
              "      </script>\n",
              "    </div>\n",
              "  </div>\n",
              "  "
            ]
          },
          "metadata": {},
          "execution_count": 4
        }
      ]
    },
    {
      "cell_type": "code",
      "source": [
        "bike_df.info()"
      ],
      "metadata": {
        "colab": {
          "base_uri": "https://localhost:8080/"
        },
        "id": "b2Pd2r6XDAS9",
        "outputId": "bca51b99-6bfb-49e8-8ba1-f87af8fdc7b9"
      },
      "execution_count": 5,
      "outputs": [
        {
          "output_type": "stream",
          "name": "stdout",
          "text": [
            "<class 'pandas.core.frame.DataFrame'>\n",
            "RangeIndex: 10886 entries, 0 to 10885\n",
            "Data columns (total 12 columns):\n",
            " #   Column      Non-Null Count  Dtype  \n",
            "---  ------      --------------  -----  \n",
            " 0   datetime    10886 non-null  object \n",
            " 1   season      10886 non-null  int64  \n",
            " 2   holiday     10886 non-null  int64  \n",
            " 3   workingday  10886 non-null  int64  \n",
            " 4   weather     10886 non-null  int64  \n",
            " 5   temp        10886 non-null  float64\n",
            " 6   atemp       10886 non-null  float64\n",
            " 7   humidity    10886 non-null  int64  \n",
            " 8   windspeed   10886 non-null  float64\n",
            " 9   casual      10886 non-null  int64  \n",
            " 10  registered  10886 non-null  int64  \n",
            " 11  count       10886 non-null  int64  \n",
            "dtypes: float64(3), int64(8), object(1)\n",
            "memory usage: 1020.7+ KB\n"
          ]
        }
      ]
    },
    {
      "cell_type": "markdown",
      "source": [
        "# Feature Engineering"
      ],
      "metadata": {
        "id": "I8bGGDXyNeK9"
      }
    },
    {
      "cell_type": "markdown",
      "source": [
        "기본으로 주어진 FE이외에 추가로 진행하셔도 됩니다!"
      ],
      "metadata": {
        "id": "YNrUOeG-Vv48"
      }
    },
    {
      "cell_type": "code",
      "source": [
        "# 문자열을 datetime 타입으로 변경\n",
        "bike_df['datetime'] = bike_df.datetime.apply(pd.to_datetime)\n",
        "\n",
        "# datetime 타입에서 년, 월, 일, 시간 추출\n",
        "bike_df['year'] = bike_df.datetime.apply(lambda x : x.year)\n",
        "bike_df['month'] = bike_df.datetime.apply(lambda x : x.month)\n",
        "bike_df['day'] = bike_df.datetime.apply(lambda x : x.day)\n",
        "bike_df['hour'] = bike_df.datetime.apply(lambda x : x.hour)\n",
        "bike_df.head(3)"
      ],
      "metadata": {
        "colab": {
          "base_uri": "https://localhost:8080/",
          "height": 143
        },
        "id": "DhzZ9wxIEdis",
        "outputId": "1b704774-b4b8-42e2-832e-3084d9aae0d7"
      },
      "execution_count": 6,
      "outputs": [
        {
          "output_type": "execute_result",
          "data": {
            "text/plain": [
              "             datetime  season  holiday  workingday  weather  temp   atemp  \\\n",
              "0 2011-01-01 00:00:00       1        0           0        1  9.84  14.395   \n",
              "1 2011-01-01 01:00:00       1        0           0        1  9.02  13.635   \n",
              "2 2011-01-01 02:00:00       1        0           0        1  9.02  13.635   \n",
              "\n",
              "   humidity  windspeed  casual  registered  count  year  month  day  hour  \n",
              "0        81        0.0       3          13     16  2011      1    1     0  \n",
              "1        80        0.0       8          32     40  2011      1    1     1  \n",
              "2        80        0.0       5          27     32  2011      1    1     2  "
            ],
            "text/html": [
              "\n",
              "  <div id=\"df-17cdbffd-044c-4a26-bddb-85eba6b1ade9\">\n",
              "    <div class=\"colab-df-container\">\n",
              "      <div>\n",
              "<style scoped>\n",
              "    .dataframe tbody tr th:only-of-type {\n",
              "        vertical-align: middle;\n",
              "    }\n",
              "\n",
              "    .dataframe tbody tr th {\n",
              "        vertical-align: top;\n",
              "    }\n",
              "\n",
              "    .dataframe thead th {\n",
              "        text-align: right;\n",
              "    }\n",
              "</style>\n",
              "<table border=\"1\" class=\"dataframe\">\n",
              "  <thead>\n",
              "    <tr style=\"text-align: right;\">\n",
              "      <th></th>\n",
              "      <th>datetime</th>\n",
              "      <th>season</th>\n",
              "      <th>holiday</th>\n",
              "      <th>workingday</th>\n",
              "      <th>weather</th>\n",
              "      <th>temp</th>\n",
              "      <th>atemp</th>\n",
              "      <th>humidity</th>\n",
              "      <th>windspeed</th>\n",
              "      <th>casual</th>\n",
              "      <th>registered</th>\n",
              "      <th>count</th>\n",
              "      <th>year</th>\n",
              "      <th>month</th>\n",
              "      <th>day</th>\n",
              "      <th>hour</th>\n",
              "    </tr>\n",
              "  </thead>\n",
              "  <tbody>\n",
              "    <tr>\n",
              "      <th>0</th>\n",
              "      <td>2011-01-01 00:00:00</td>\n",
              "      <td>1</td>\n",
              "      <td>0</td>\n",
              "      <td>0</td>\n",
              "      <td>1</td>\n",
              "      <td>9.84</td>\n",
              "      <td>14.395</td>\n",
              "      <td>81</td>\n",
              "      <td>0.0</td>\n",
              "      <td>3</td>\n",
              "      <td>13</td>\n",
              "      <td>16</td>\n",
              "      <td>2011</td>\n",
              "      <td>1</td>\n",
              "      <td>1</td>\n",
              "      <td>0</td>\n",
              "    </tr>\n",
              "    <tr>\n",
              "      <th>1</th>\n",
              "      <td>2011-01-01 01:00:00</td>\n",
              "      <td>1</td>\n",
              "      <td>0</td>\n",
              "      <td>0</td>\n",
              "      <td>1</td>\n",
              "      <td>9.02</td>\n",
              "      <td>13.635</td>\n",
              "      <td>80</td>\n",
              "      <td>0.0</td>\n",
              "      <td>8</td>\n",
              "      <td>32</td>\n",
              "      <td>40</td>\n",
              "      <td>2011</td>\n",
              "      <td>1</td>\n",
              "      <td>1</td>\n",
              "      <td>1</td>\n",
              "    </tr>\n",
              "    <tr>\n",
              "      <th>2</th>\n",
              "      <td>2011-01-01 02:00:00</td>\n",
              "      <td>1</td>\n",
              "      <td>0</td>\n",
              "      <td>0</td>\n",
              "      <td>1</td>\n",
              "      <td>9.02</td>\n",
              "      <td>13.635</td>\n",
              "      <td>80</td>\n",
              "      <td>0.0</td>\n",
              "      <td>5</td>\n",
              "      <td>27</td>\n",
              "      <td>32</td>\n",
              "      <td>2011</td>\n",
              "      <td>1</td>\n",
              "      <td>1</td>\n",
              "      <td>2</td>\n",
              "    </tr>\n",
              "  </tbody>\n",
              "</table>\n",
              "</div>\n",
              "      <button class=\"colab-df-convert\" onclick=\"convertToInteractive('df-17cdbffd-044c-4a26-bddb-85eba6b1ade9')\"\n",
              "              title=\"Convert this dataframe to an interactive table.\"\n",
              "              style=\"display:none;\">\n",
              "        \n",
              "  <svg xmlns=\"http://www.w3.org/2000/svg\" height=\"24px\"viewBox=\"0 0 24 24\"\n",
              "       width=\"24px\">\n",
              "    <path d=\"M0 0h24v24H0V0z\" fill=\"none\"/>\n",
              "    <path d=\"M18.56 5.44l.94 2.06.94-2.06 2.06-.94-2.06-.94-.94-2.06-.94 2.06-2.06.94zm-11 1L8.5 8.5l.94-2.06 2.06-.94-2.06-.94L8.5 2.5l-.94 2.06-2.06.94zm10 10l.94 2.06.94-2.06 2.06-.94-2.06-.94-.94-2.06-.94 2.06-2.06.94z\"/><path d=\"M17.41 7.96l-1.37-1.37c-.4-.4-.92-.59-1.43-.59-.52 0-1.04.2-1.43.59L10.3 9.45l-7.72 7.72c-.78.78-.78 2.05 0 2.83L4 21.41c.39.39.9.59 1.41.59.51 0 1.02-.2 1.41-.59l7.78-7.78 2.81-2.81c.8-.78.8-2.07 0-2.86zM5.41 20L4 18.59l7.72-7.72 1.47 1.35L5.41 20z\"/>\n",
              "  </svg>\n",
              "      </button>\n",
              "      \n",
              "  <style>\n",
              "    .colab-df-container {\n",
              "      display:flex;\n",
              "      flex-wrap:wrap;\n",
              "      gap: 12px;\n",
              "    }\n",
              "\n",
              "    .colab-df-convert {\n",
              "      background-color: #E8F0FE;\n",
              "      border: none;\n",
              "      border-radius: 50%;\n",
              "      cursor: pointer;\n",
              "      display: none;\n",
              "      fill: #1967D2;\n",
              "      height: 32px;\n",
              "      padding: 0 0 0 0;\n",
              "      width: 32px;\n",
              "    }\n",
              "\n",
              "    .colab-df-convert:hover {\n",
              "      background-color: #E2EBFA;\n",
              "      box-shadow: 0px 1px 2px rgba(60, 64, 67, 0.3), 0px 1px 3px 1px rgba(60, 64, 67, 0.15);\n",
              "      fill: #174EA6;\n",
              "    }\n",
              "\n",
              "    [theme=dark] .colab-df-convert {\n",
              "      background-color: #3B4455;\n",
              "      fill: #D2E3FC;\n",
              "    }\n",
              "\n",
              "    [theme=dark] .colab-df-convert:hover {\n",
              "      background-color: #434B5C;\n",
              "      box-shadow: 0px 1px 3px 1px rgba(0, 0, 0, 0.15);\n",
              "      filter: drop-shadow(0px 1px 2px rgba(0, 0, 0, 0.3));\n",
              "      fill: #FFFFFF;\n",
              "    }\n",
              "  </style>\n",
              "\n",
              "      <script>\n",
              "        const buttonEl =\n",
              "          document.querySelector('#df-17cdbffd-044c-4a26-bddb-85eba6b1ade9 button.colab-df-convert');\n",
              "        buttonEl.style.display =\n",
              "          google.colab.kernel.accessAllowed ? 'block' : 'none';\n",
              "\n",
              "        async function convertToInteractive(key) {\n",
              "          const element = document.querySelector('#df-17cdbffd-044c-4a26-bddb-85eba6b1ade9');\n",
              "          const dataTable =\n",
              "            await google.colab.kernel.invokeFunction('convertToInteractive',\n",
              "                                                     [key], {});\n",
              "          if (!dataTable) return;\n",
              "\n",
              "          const docLinkHtml = 'Like what you see? Visit the ' +\n",
              "            '<a target=\"_blank\" href=https://colab.research.google.com/notebooks/data_table.ipynb>data table notebook</a>'\n",
              "            + ' to learn more about interactive tables.';\n",
              "          element.innerHTML = '';\n",
              "          dataTable['output_type'] = 'display_data';\n",
              "          await google.colab.output.renderOutput(dataTable, element);\n",
              "          const docLink = document.createElement('div');\n",
              "          docLink.innerHTML = docLinkHtml;\n",
              "          element.appendChild(docLink);\n",
              "        }\n",
              "      </script>\n",
              "    </div>\n",
              "  </div>\n",
              "  "
            ]
          },
          "metadata": {},
          "execution_count": 6
        }
      ]
    },
    {
      "cell_type": "code",
      "source": [
        "drop_columns = ['datetime', 'casual', 'registered']\n",
        "bike_df.drop(drop_columns, axis=1, inplace=True)"
      ],
      "metadata": {
        "id": "_Mdo2CQDFC3G"
      },
      "execution_count": 7,
      "outputs": []
    },
    {
      "cell_type": "markdown",
      "source": [
        "# 평가지표 설정"
      ],
      "metadata": {
        "id": "ZhR6nOxoNk5d"
      }
    },
    {
      "cell_type": "markdown",
      "source": [
        "캐글에서 요구한 성능 평가 방법은 RMSLE(Root Mean Square Log Error)입니다. 즉, 오류 값의 로그에 대한 RMSE 입니다. 사이킷런에서 직접 제공하는 함수가 없기 때문에 평가지표 함수를 만들고, 다른 평가 지표인 MSE, RMSE를 함께 모두 계산할 수 있는 함수도 추가로 만들었습니다."
      ],
      "metadata": {
        "id": "JaklSzUlNn1S"
      }
    },
    {
      "cell_type": "code",
      "source": [
        "from sklearn.metrics import mean_squared_error, mean_absolute_error\n",
        "\n",
        "# log 값 변환 시 NaN등의 이슈로 log() 가 아닌 log1p() 를 이용하여 RMSLE 계산\n",
        "# log1p() = 1 + log()\n",
        "# 이렇게 변환된 값은 다시 expm1()함수로 쉽게 원래 스케일로 복원 가능\n",
        "def rmsle(y, pred):\n",
        "    log_y = np.log1p(y)\n",
        "    log_pred = np.log1p(pred)\n",
        "    squared_error = (log_y - log_pred) ** 2\n",
        "    rmsle = np.sqrt(np.mean(squared_error))\n",
        "    return rmsle\n",
        "\n",
        "# 사이킷런의 mean_square_error() 를 이용하여 RMSE 계산\n",
        "def rmse(y,pred):\n",
        "    return np.sqrt(mean_squared_error(y,pred))\n",
        "\n",
        "# MSE, RMSE, RMSLE 를 모두 계산 \n",
        "def evaluate_regr(y,pred):\n",
        "    rmsle_val = rmsle(y,pred)\n",
        "    rmse_val = rmse(y,pred)\n",
        "    # MAE 는 scikit learn의 mean_absolute_error() 로 계산\n",
        "    mae_val = mean_absolute_error(y,pred)\n",
        "    print('RMSLE: {0:.3f}, RMSE: {1:.3F}, MAE: {2:.3F}'.format(rmsle_val, rmse_val, mae_val))"
      ],
      "metadata": {
        "id": "8LYqILUUHd8W"
      },
      "execution_count": 8,
      "outputs": []
    },
    {
      "cell_type": "markdown",
      "source": [
        "# 모델 학습/예측/평가"
      ],
      "metadata": {
        "id": "DfjPCS5mOcPP"
      }
    },
    {
      "cell_type": "code",
      "source": [
        "from sklearn.model_selection import train_test_split , GridSearchCV\n",
        "from sklearn.linear_model import LinearRegression , Ridge , Lasso\n",
        "\n",
        "y_target = bike_df['count']\n",
        "X_features = bike_df.drop(['count'],axis=1,inplace=False)\n",
        "\n",
        "y_target.hist()"
      ],
      "metadata": {
        "colab": {
          "base_uri": "https://localhost:8080/",
          "height": 283
        },
        "id": "bQk8S5hePz2A",
        "outputId": "e456e56a-059d-425a-ca64-13fa391ec879"
      },
      "execution_count": 9,
      "outputs": [
        {
          "output_type": "execute_result",
          "data": {
            "text/plain": [
              "<matplotlib.axes._subplots.AxesSubplot at 0x7f1859e5fe50>"
            ]
          },
          "metadata": {},
          "execution_count": 9
        },
        {
          "output_type": "display_data",
          "data": {
            "text/plain": [
              "<Figure size 432x288 with 1 Axes>"
            ],
            "image/png": "[encoded data removed]"
          },
          "metadata": {
            "needs_background": "light"
          }
        }
      ]
    },
    {
      "cell_type": "code",
      "source": [
        "# 타깃 칼럼인 count 값을 log1p로 로그 변환\n",
        "# 변환하는 이유는 count의 분포를 보게 되면 0~200 사이에 왜곡됨을 볼 수 있음.\n",
        "# 정규 분포 형태로 바꾸기 위해 로그를 적용하여 변환(정규성을 높여 정확한 결과를 얻기 위함)\n",
        "y_target_log = np.log1p(y_target)\n",
        "\n",
        "# 로그 변환된 y_target_log를 반영하여 학습/테스트 데이터 셋 분할\n",
        "X_train, X_test, y_train, y_test = train_test_split(X_features, y_target_log, test_size=0.3, random_state=0)\n",
        "lr_reg = LinearRegression()\n",
        "lr_reg.fit(X_train, y_train)\n",
        "pred = lr_reg.predict(X_test)\n",
        "\n",
        "# 테스트 데이터 셋의 Target 값은 Log 변환되었으므로 다시 expm1를 이용하여 원래 scale로 변환\n",
        "y_test_exp = np.expm1(y_test)\n",
        "\n",
        "# 예측 값 역시 Log 변환된 타깃 기반으로 학습되어 예측되었으므로 다시 exmpl으로 scale변환\n",
        "pred_exp = np.expm1(pred)\n",
        "\n",
        "evaluate_regr(y_test_exp ,pred_exp)\n"
      ],
      "metadata": {
        "colab": {
          "base_uri": "https://localhost:8080/"
        },
        "id": "9Urg0mLYJeFd",
        "outputId": "1f5b2e1c-e19c-426c-9fa4-d78699865631"
      },
      "execution_count": 10,
      "outputs": [
        {
          "output_type": "stream",
          "name": "stdout",
          "text": [
            "RMSLE: 1.017, RMSE: 162.594, MAE: 109.286\n"
          ]
        }
      ]
    },
    {
      "cell_type": "markdown",
      "source": [
        "각 feature에 대한 회귀 계숫값 시각화"
      ],
      "metadata": {
        "id": "OVkz8dQ0QGHR"
      }
    },
    {
      "cell_type": "code",
      "source": [
        "coef = pd.Series(lr_reg.coef_, index=X_features.columns)\n",
        "coef_sort = coef.sort_values(ascending=False)\n",
        "sns.barplot(x=coef_sort.values, y=coef_sort.index)\n",
        "plt.savefig('log_transform.tif', format='tif', dpi=300, bbox_inches='tight')"
      ],
      "metadata": {
        "colab": {
          "base_uri": "https://localhost:8080/",
          "height": 265
        },
        "id": "5xnFjru7JrLN",
        "outputId": "9c99b0fa-026c-4ba4-baa0-3a77cb50e82f"
      },
      "execution_count": 11,
      "outputs": [
        {
          "output_type": "display_data",
          "data": {
            "text/plain": [
              "<Figure size 432x288 with 1 Axes>"
            ],
            "image/png": "[encoded data removed]"
          },
          "metadata": {
            "needs_background": "light"
          }
        }
      ]
    },
    {
      "cell_type": "markdown",
      "source": [
        "# one-hot encoding"
      ],
      "metadata": {
        "id": "NxAEjK0yQSg4"
      }
    },
    {
      "cell_type": "code",
      "source": [
        "# 'year', month', 'day', hour'등의 피처들을 One Hot Encoding\n",
        "X_features_ohe = pd.get_dummies(X_features, columns=['year', 'month','day', 'hour', 'holiday',\n",
        "                                              'workingday','season','weather'])"
      ],
      "metadata": {
        "id": "MAWTrb2gJskN"
      },
      "execution_count": 12,
      "outputs": []
    },
    {
      "cell_type": "markdown",
      "source": [
        "# one-hot encoding 후 다시 성능 평가"
      ],
      "metadata": {
        "id": "shk4peZpQfEZ"
      }
    },
    {
      "cell_type": "markdown",
      "source": [
        "성능 평가를 위한 함수 생성"
      ],
      "metadata": {
        "id": "aaL_NjjBRHDd"
      }
    },
    {
      "cell_type": "code",
      "source": [
        "# 모델과 학습/테스트 데이터 셋을 입력하면 성능 평가 수치를 반환\n",
        "def get_model_predict(model, X_train, X_test, y_train, y_test, is_expm1=False):\n",
        "    model.fit(X_train, y_train)\n",
        "    pred = model.predict(X_test)\n",
        "    if is_expm1 :\n",
        "        y_test = np.expm1(y_test)\n",
        "        pred = np.expm1(pred)\n",
        "    print('###',model.__class__.__name__,'###')\n",
        "    evaluate_regr(y_test, pred)"
      ],
      "metadata": {
        "id": "PSSkImkdQ6oB"
      },
      "execution_count": 13,
      "outputs": []
    },
    {
      "cell_type": "markdown",
      "source": [
        "성능 평가 진행"
      ],
      "metadata": {
        "id": "aCMVUFPcRJsZ"
      }
    },
    {
      "cell_type": "code",
      "source": [
        "# 원-핫 인코딩이 적용된 feature 데이터 세트 기반으로 학습/예측 데이터 분할. \n",
        "X_train, X_test, y_train, y_test = train_test_split(X_features_ohe, y_target_log,\n",
        "                                                    test_size=0.3, random_state=0)\n",
        "\n",
        "# model 별로 평가 수행\n",
        "lr_reg = LinearRegression()\n",
        "ridge_reg = Ridge(alpha=10)\n",
        "lasso_reg = Lasso(alpha=0.01)\n",
        "\n",
        "for model in [lr_reg, ridge_reg, lasso_reg]:\n",
        "    get_model_predict(model,X_train, X_test, y_train, y_test,is_expm1=True)"
      ],
      "metadata": {
        "colab": {
          "base_uri": "https://localhost:8080/"
        },
        "id": "sjJKKpQ9Q1nB",
        "outputId": "2bf9439b-b60e-4bb7-f07e-0689d57b27f0"
      },
      "execution_count": 14,
      "outputs": [
        {
          "output_type": "stream",
          "name": "stdout",
          "text": [
            "### LinearRegression ###\n",
            "RMSLE: 0.590, RMSE: 97.688, MAE: 63.382\n",
            "### Ridge ###\n",
            "RMSLE: 0.590, RMSE: 98.529, MAE: 63.893\n",
            "### Lasso ###\n",
            "RMSLE: 0.635, RMSE: 113.219, MAE: 72.803\n"
          ]
        }
      ]
    },
    {
      "cell_type": "markdown",
      "source": [
        "회귀 계수 확인"
      ],
      "metadata": {
        "id": "28V5QQ5iRNFJ"
      }
    },
    {
      "cell_type": "code",
      "source": [
        "coef = pd.Series(lr_reg.coef_ , index=X_features_ohe.columns)\n",
        "coef_sort = coef.sort_values(ascending=False)[:20]\n",
        "sns.barplot(x=coef_sort.values , y=coef_sort.index)"
      ],
      "metadata": {
        "colab": {
          "base_uri": "https://localhost:8080/",
          "height": 296
        },
        "id": "L8NbbUQmJv4d",
        "outputId": "aaa402eb-8665-4156-8c7f-82d904e78cc1"
      },
      "execution_count": 15,
      "outputs": [
        {
          "output_type": "execute_result",
          "data": {
            "text/plain": [
              "<matplotlib.axes._subplots.AxesSubplot at 0x7f1854f7b190>"
            ]
          },
          "metadata": {},
          "execution_count": 15
        },
        {
          "output_type": "display_data",
          "data": {
            "text/plain": [
              "<Figure size 432x288 with 1 Axes>"
            ],
            "image/png": "[encoded data removed]"
          },
          "metadata": {
            "needs_background": "light"
          }
        }
      ]
    },
    {
      "cell_type": "markdown",
      "source": [
        "one-hot encoding을 통해 성능도 올라갔고, featrue 들의 영향도도 달라졌음을 알 수 있다. 항상 one-hot encoding이 성능을 올린다고 할 수는 없지만 선형 회귀의 경우 중요 카테고리성 feature들은 one-hot encoding을 하는 것이 중요한 영향을 미칠 수 있다."
      ],
      "metadata": {
        "id": "b15fguKtRTif"
      }
    },
    {
      "cell_type": "markdown",
      "source": [
        "# 다양한 모델을 통한 실험"
      ],
      "metadata": {
        "id": "L64YAgtFRzfR"
      }
    },
    {
      "cell_type": "code",
      "source": [
        "from sklearn.ensemble import RandomForestRegressor, GradientBoostingRegressor\n",
        "from xgboost import XGBRegressor\n",
        "from lightgbm import LGBMRegressor\n",
        "\n",
        "# 랜덤 포레스트, GBM, XGBoost, LightGBM model 별로 평가 수행\n",
        "# n_estimators를 변경할 수 있습니다. \n",
        "# 구글링을 통해 모델별로 추가 parameter 튜닝하셔도 됩니다.\n",
        "rf_reg = RandomForestRegressor(n_estimators=500)\n",
        "gbm_reg = GradientBoostingRegressor(n_estimators=500)\n",
        "xgb_reg = XGBRegressor(n_estimators=500)\n",
        "lgbm_reg = LGBMRegressor(n_estimators=500)"
      ],
      "metadata": {
        "id": "RVhBfpDnJxqu"
      },
      "execution_count": 20,
      "outputs": []
    },
    {
      "cell_type": "code",
      "source": [
        "model = rf_reg  # 변경 가능\n",
        "\n",
        "get_model_predict(model,X_train.values, X_test.values, y_train.values, y_test.values,is_expm1=True)"
      ],
      "metadata": {
        "colab": {
          "base_uri": "https://localhost:8080/"
        },
        "id": "U6jyaL35SP4q",
        "outputId": "4a967957-3ad3-47e5-8355-e98228c223cf"
      },
      "execution_count": 21,
      "outputs": [
        {
          "output_type": "stream",
          "name": "stdout",
          "text": [
            "### RandomForestRegressor ###\n",
            "RMSLE: 0.355, RMSE: 50.247, MAE: 31.087\n"
          ]
        }
      ]
    },
    {
      "cell_type": "markdown",
      "source": [
        "### 두 모델을 혼합하여 계산"
      ],
      "metadata": {
        "id": "efMnS6ShUyJd"
      }
    },
    {
      "cell_type": "markdown",
      "source": [
        "여러 모델의 결과를 받고 가중치에 따른 계산을 하는 방법입니다. (단일 모델에서 가장 성능이 좋은 두 모델을 결합하였는데 더 좋지 않은 성능을 보일 수도 있습니다.)"
      ],
      "metadata": {
        "id": "rYAqZCmpU8D6"
      }
    },
    {
      "cell_type": "code",
      "source": [
        "# 모델과 학습/테스트 데이터 셋을 입력하면 성능 평가 수치를 반환\n",
        "def get_two_models_predict(model1,model2, X_train, X_test, y_train, y_test, is_expm1=False, bias=0):\n",
        "    model1.fit(X_train, y_train)\n",
        "    model1_pred = model1.predict(X_test)\n",
        "    model2.fit(X_train, y_train)\n",
        "    model2_pred = model2.predict(X_test)\n",
        "    \n",
        "    pred = bias*model1_pred + (1-bias)*model2_pred # 가중치 변경 가능!\n",
        "\n",
        "    if is_expm1 :\n",
        "        y_test = np.expm1(y_test)\n",
        "        pred = np.expm1(pred)\n",
        "    print('### Two Models ###')\n",
        "    evaluate_regr(y_test, pred)"
      ],
      "metadata": {
        "id": "foCZLQ9fSnvH"
      },
      "execution_count": 26,
      "outputs": []
    },
    {
      "cell_type": "code",
      "source": [
        "model1 = rf_reg  # 변경 가능\n",
        "model2 = gbm_reg  # 변경 가능\n",
        "\n",
        "get_two_models_predict(model1,model2,X_train.values, X_test.values, y_train.values, y_test.values,is_expm1=True)"
      ],
      "metadata": {
        "colab": {
          "base_uri": "https://localhost:8080/"
        },
        "id": "ybfNNZkYJzZO",
        "outputId": "4f776e99-92c7-40f2-eac0-29755cd885c8"
      },
      "execution_count": 22,
      "outputs": [
        {
          "output_type": "stream",
          "name": "stdout",
          "text": [
            "### Two Models ###\n",
            "RMSLE: 0.325, RMSE: 49.690, MAE: 30.637\n"
          ]
        }
      ]
    },
    {
      "cell_type": "code",
      "source": [
        "model_list = [rf_reg, gbm_reg, xgb_reg, lgbm_reg]\n",
        "for j in range(0,3):\n",
        "  for k in range(j+1,4):\n",
        "    for i in range(0,11):\n",
        "      i = i/10\n",
        "      get_two_models_predict(model_list[j],model_list[k],X_train.values, X_test.values, y_train.values, y_test.values,is_expm1=True, bias=i)"
      ],
      "metadata": {
        "colab": {
          "base_uri": "https://localhost:8080/"
        },
        "id": "rD-QtwY-loT7",
        "outputId": "b1e1520a-46b2-4293-9de0-3dd4f049e997"
      },
      "execution_count": 28,
      "outputs": [
        {
          "output_type": "stream",
          "name": "stdout",
          "text": [
            "### Two Models ###\n",
            "RMSLE: 0.330, RMSE: 53.330, MAE: 32.739\n",
            "### Two Models ###\n",
            "RMSLE: 0.327, RMSE: 52.178, MAE: 32.053\n",
            "### Two Models ###\n",
            "RMSLE: 0.325, RMSE: 51.117, MAE: 31.422\n",
            "### Two Models ###\n",
            "RMSLE: 0.325, RMSE: 50.390, MAE: 31.024\n",
            "### Two Models ###\n",
            "RMSLE: 0.326, RMSE: 49.672, MAE: 30.618\n",
            "### Two Models ###\n",
            "RMSLE: 0.328, RMSE: 49.345, MAE: 30.389\n",
            "### Two Models ###\n",
            "RMSLE: 0.331, RMSE: 49.076, MAE: 30.231\n",
            "### Two Models ###\n",
            "RMSLE: 0.335, RMSE: 48.894, MAE: 30.172\n",
            "### Two Models ###\n",
            "RMSLE: 0.341, RMSE: 49.436, MAE: 30.472\n",
            "### Two Models ###\n",
            "RMSLE: 0.346, RMSE: 49.756, MAE: 30.699\n",
            "### Two Models ###\n",
            "RMSLE: 0.354, RMSE: 50.222, MAE: 31.158\n",
            "[11:58:21] WARNING: /workspace/src/objective/regression_obj.cu:152: reg:linear is now deprecated in favor of reg:squarederror.\n",
            "### Two Models ###\n",
            "RMSLE: 0.345, RMSE: 58.245, MAE: 35.768\n",
            "[11:58:52] WARNING: /workspace/src/objective/regression_obj.cu:152: reg:linear is now deprecated in favor of reg:squarederror.\n",
            "### Two Models ###\n",
            "RMSLE: 0.340, RMSE: 56.502, MAE: 34.765\n",
            "[11:59:22] WARNING: /workspace/src/objective/regression_obj.cu:152: reg:linear is now deprecated in favor of reg:squarederror.\n",
            "### Two Models ###\n",
            "RMSLE: 0.337, RMSE: 54.946, MAE: 33.874\n",
            "[11:59:54] WARNING: /workspace/src/objective/regression_obj.cu:152: reg:linear is now deprecated in favor of reg:squarederror.\n",
            "### Two Models ###\n",
            "RMSLE: 0.335, RMSE: 53.590, MAE: 33.098\n",
            "[12:00:24] WARNING: /workspace/src/objective/regression_obj.cu:152: reg:linear is now deprecated in favor of reg:squarederror.\n",
            "### Two Models ###\n",
            "RMSLE: 0.334, RMSE: 52.355, MAE: 32.442\n",
            "[12:00:54] WARNING: /workspace/src/objective/regression_obj.cu:152: reg:linear is now deprecated in favor of reg:squarederror.\n",
            "### Two Models ###\n",
            "RMSLE: 0.334, RMSE: 51.366, MAE: 31.840\n",
            "[12:01:25] WARNING: /workspace/src/objective/regression_obj.cu:152: reg:linear is now deprecated in favor of reg:squarederror.\n",
            "### Two Models ###\n",
            "RMSLE: 0.335, RMSE: 50.512, MAE: 31.324\n",
            "[12:01:55] WARNING: /workspace/src/objective/regression_obj.cu:152: reg:linear is now deprecated in favor of reg:squarederror.\n",
            "### Two Models ###\n",
            "RMSLE: 0.339, RMSE: 50.039, MAE: 31.038\n",
            "[12:02:25] WARNING: /workspace/src/objective/regression_obj.cu:152: reg:linear is now deprecated in favor of reg:squarederror.\n",
            "### Two Models ###\n",
            "RMSLE: 0.343, RMSE: 49.716, MAE: 30.796\n",
            "[12:02:55] WARNING: /workspace/src/objective/regression_obj.cu:152: reg:linear is now deprecated in favor of reg:squarederror.\n",
            "### Two Models ###\n",
            "RMSLE: 0.348, RMSE: 50.073, MAE: 30.961\n",
            "[12:03:27] WARNING: /workspace/src/objective/regression_obj.cu:152: reg:linear is now deprecated in favor of reg:squarederror.\n",
            "### Two Models ###\n",
            "RMSLE: 0.354, RMSE: 50.360, MAE: 31.122\n",
            "### Two Models ###\n",
            "RMSLE: 0.319, RMSE: 47.215, MAE: 29.029\n",
            "### Two Models ###\n",
            "RMSLE: 0.317, RMSE: 46.599, MAE: 28.629\n",
            "### Two Models ###\n",
            "RMSLE: 0.317, RMSE: 46.214, MAE: 28.382\n",
            "### Two Models ###\n",
            "RMSLE: 0.317, RMSE: 46.124, MAE: 28.308\n",
            "### Two Models ###\n",
            "RMSLE: 0.319, RMSE: 46.112, MAE: 28.275\n",
            "### Two Models ###\n",
            "RMSLE: 0.322, RMSE: 46.265, MAE: 28.441\n",
            "### Two Models ###\n",
            "RMSLE: 0.326, RMSE: 46.670, MAE: 28.739\n",
            "### Two Models ###\n",
            "RMSLE: 0.332, RMSE: 47.374, MAE: 29.151\n",
            "### Two Models ###\n",
            "RMSLE: 0.338, RMSE: 48.158, MAE: 29.705\n",
            "### Two Models ###\n",
            "RMSLE: 0.346, RMSE: 49.114, MAE: 30.341\n",
            "### Two Models ###\n",
            "RMSLE: 0.354, RMSE: 50.205, MAE: 30.997\n",
            "[12:08:21] WARNING: /workspace/src/objective/regression_obj.cu:152: reg:linear is now deprecated in favor of reg:squarederror.\n",
            "### Two Models ###\n",
            "RMSLE: 0.345, RMSE: 58.245, MAE: 35.768\n",
            "[12:08:30] WARNING: /workspace/src/objective/regression_obj.cu:152: reg:linear is now deprecated in favor of reg:squarederror.\n",
            "### Two Models ###\n",
            "RMSLE: 0.343, RMSE: 57.630, MAE: 35.407\n",
            "[12:08:40] WARNING: /workspace/src/objective/regression_obj.cu:152: reg:linear is now deprecated in favor of reg:squarederror.\n",
            "### Two Models ###\n",
            "RMSLE: 0.340, RMSE: 57.038, MAE: 35.062\n",
            "[12:08:49] WARNING: /workspace/src/objective/regression_obj.cu:152: reg:linear is now deprecated in favor of reg:squarederror.\n",
            "### Two Models ###\n",
            "RMSLE: 0.339, RMSE: 56.469, MAE: 34.718\n",
            "[12:08:59] WARNING: /workspace/src/objective/regression_obj.cu:152: reg:linear is now deprecated in favor of reg:squarederror.\n",
            "### Two Models ###\n",
            "RMSLE: 0.337, RMSE: 55.922, MAE: 34.383\n",
            "[12:09:08] WARNING: /workspace/src/objective/regression_obj.cu:152: reg:linear is now deprecated in favor of reg:squarederror.\n",
            "### Two Models ###\n",
            "RMSLE: 0.335, RMSE: 55.416, MAE: 34.059\n",
            "[12:09:18] WARNING: /workspace/src/objective/regression_obj.cu:152: reg:linear is now deprecated in favor of reg:squarederror.\n",
            "### Two Models ###\n",
            "RMSLE: 0.334, RMSE: 54.926, MAE: 33.743\n",
            "[12:09:28] WARNING: /workspace/src/objective/regression_obj.cu:152: reg:linear is now deprecated in favor of reg:squarederror.\n",
            "### Two Models ###\n",
            "RMSLE: 0.333, RMSE: 54.475, MAE: 33.468\n",
            "[12:09:38] WARNING: /workspace/src/objective/regression_obj.cu:152: reg:linear is now deprecated in favor of reg:squarederror.\n",
            "### Two Models ###\n",
            "RMSLE: 0.332, RMSE: 54.057, MAE: 33.211\n",
            "[12:09:48] WARNING: /workspace/src/objective/regression_obj.cu:152: reg:linear is now deprecated in favor of reg:squarederror.\n",
            "### Two Models ###\n",
            "RMSLE: 0.331, RMSE: 53.681, MAE: 32.972\n",
            "[12:09:57] WARNING: /workspace/src/objective/regression_obj.cu:152: reg:linear is now deprecated in favor of reg:squarederror.\n",
            "### Two Models ###\n",
            "RMSLE: 0.330, RMSE: 53.319, MAE: 32.731\n",
            "### Two Models ###\n",
            "RMSLE: 0.319, RMSE: 47.215, MAE: 29.029\n",
            "### Two Models ###\n",
            "RMSLE: 0.316, RMSE: 46.878, MAE: 28.844\n",
            "### Two Models ###\n",
            "RMSLE: 0.315, RMSE: 46.788, MAE: 28.785\n",
            "### Two Models ###\n",
            "RMSLE: 0.314, RMSE: 46.936, MAE: 28.893\n",
            "### Two Models ###\n",
            "RMSLE: 0.314, RMSE: 47.309, MAE: 29.114\n",
            "### Two Models ###\n",
            "RMSLE: 0.314, RMSE: 47.887, MAE: 29.452\n",
            "### Two Models ###\n",
            "RMSLE: 0.316, RMSE: 48.653, MAE: 29.915\n",
            "### Two Models ###\n",
            "RMSLE: 0.318, RMSE: 49.608, MAE: 30.504\n",
            "### Two Models ###\n",
            "RMSLE: 0.321, RMSE: 50.705, MAE: 31.162\n",
            "### Two Models ###\n",
            "RMSLE: 0.325, RMSE: 51.958, MAE: 31.918\n",
            "### Two Models ###\n",
            "RMSLE: 0.330, RMSE: 53.327, MAE: 32.732\n",
            "[12:11:00] WARNING: /workspace/src/objective/regression_obj.cu:152: reg:linear is now deprecated in favor of reg:squarederror.\n",
            "### Two Models ###\n",
            "RMSLE: 0.319, RMSE: 47.215, MAE: 29.029\n",
            "[12:11:05] WARNING: /workspace/src/objective/regression_obj.cu:152: reg:linear is now deprecated in favor of reg:squarederror.\n",
            "### Two Models ###\n",
            "RMSLE: 0.317, RMSE: 47.023, MAE: 28.968\n",
            "[12:11:11] WARNING: /workspace/src/objective/regression_obj.cu:152: reg:linear is now deprecated in favor of reg:squarederror.\n",
            "### Two Models ###\n",
            "RMSLE: 0.316, RMSE: 47.217, MAE: 29.139\n",
            "[12:11:16] WARNING: /workspace/src/objective/regression_obj.cu:152: reg:linear is now deprecated in favor of reg:squarederror.\n",
            "### Two Models ###\n",
            "RMSLE: 0.316, RMSE: 47.762, MAE: 29.529\n",
            "[12:11:22] WARNING: /workspace/src/objective/regression_obj.cu:152: reg:linear is now deprecated in favor of reg:squarederror.\n",
            "### Two Models ###\n",
            "RMSLE: 0.317, RMSE: 48.619, MAE: 30.075\n",
            "[12:11:27] WARNING: /workspace/src/objective/regression_obj.cu:152: reg:linear is now deprecated in favor of reg:squarederror.\n",
            "### Two Models ###\n",
            "RMSLE: 0.319, RMSE: 49.746, MAE: 30.748\n",
            "[12:11:33] WARNING: /workspace/src/objective/regression_obj.cu:152: reg:linear is now deprecated in favor of reg:squarederror.\n",
            "### Two Models ###\n",
            "RMSLE: 0.323, RMSE: 51.107, MAE: 31.583\n",
            "[12:11:38] WARNING: /workspace/src/objective/regression_obj.cu:152: reg:linear is now deprecated in favor of reg:squarederror.\n",
            "### Two Models ###\n",
            "RMSLE: 0.327, RMSE: 52.667, MAE: 32.522\n",
            "[12:11:44] WARNING: /workspace/src/objective/regression_obj.cu:152: reg:linear is now deprecated in favor of reg:squarederror.\n",
            "### Two Models ###\n",
            "RMSLE: 0.332, RMSE: 54.393, MAE: 33.532\n",
            "[12:11:49] WARNING: /workspace/src/objective/regression_obj.cu:152: reg:linear is now deprecated in favor of reg:squarederror.\n",
            "### Two Models ###\n",
            "RMSLE: 0.338, RMSE: 56.260, MAE: 34.612\n",
            "[12:11:55] WARNING: /workspace/src/objective/regression_obj.cu:152: reg:linear is now deprecated in favor of reg:squarederror.\n",
            "### Two Models ###\n",
            "RMSLE: 0.345, RMSE: 58.245, MAE: 35.768\n"
          ]
        }
      ]
    },
    {
      "cell_type": "markdown",
      "source": [
        "# 과제"
      ],
      "metadata": {
        "id": "v7KMDIe-UJuI"
      }
    },
    {
      "cell_type": "markdown",
      "source": [
        "자유롭게 FE를 진행하시고 모델 튜닝 및 모델 선택을 진행하여서 RMSLE가 0.32 이하가 나온 것을 캡쳐해서 아래에 업로드 해주시면 됩니다. (0.32 이하가 나오지 않아도 노력한 흔적이 있으면 되기 때문에 해당 결과를 올리셔도 됩니다.)\n",
        "\n",
        "\n",
        "(해당 결과는 train dataset에서 나눈 data set을 test data로 만든 것이기 때문에 실제 test 결과와는 다릅니다. 즉, 캐글 점수와는 다를 것입니다.)"
      ],
      "metadata": {
        "id": "EE6StLU3UPkm"
      }
    },
    {
      "cell_type": "code",
      "source": [
        "model1 = gbm_reg  # 변경 가능\n",
        "model2 = lgbm_reg # 변경 가능\n",
        "\n",
        "get_two_models_predict(model1,model2,X_train.values, X_test.values, y_train.values, y_test.values,is_expm1=True, bias=0.4)"
      ],
      "metadata": {
        "colab": {
          "base_uri": "https://localhost:8080/"
        },
        "id": "T6dXna2SuD1w",
        "outputId": "c47a0663-0e6a-4f53-87a3-e9b27c1fb012"
      },
      "execution_count": 30,
      "outputs": [
        {
          "output_type": "stream",
          "name": "stdout",
          "text": [
            "### Two Models ###\n",
            "RMSLE: 0.314, RMSE: 47.305, MAE: 29.110\n"
          ]
        }
      ]
    },
    {
      "cell_type": "markdown",
      "source": [
        "![스크린샷 2023-01-24 오후 9.21.11.png](data:image/png;base64,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)"
      ],
      "metadata": {
        "id": "n6I6gvFyutVd"
      }
    },
    {
      "cell_type": "markdown",
      "source": [
        "\n",
        "\n",
        "---\n",
        "\n",
        "\n",
        "\n",
        "이미지 제출\n",
        "\n",
        "![스크린샷 2023-01-24 오후 9.21.11.png](data:image/png;base64,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)"
      ],
      "metadata": {
        "id": "MMhwQUSWuzOz"
      }
    }
  ]
}