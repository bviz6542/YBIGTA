{
  "cells": [
    {
      "attachments": {},
      "cell_type": "markdown",
      "metadata": {},
      "source": [
        "# 과제 1"
      ]
    },
    {
      "cell_type": "code",
      "execution_count": 9,
      "metadata": {},
      "outputs": [
        {
          "name": "stdout",
          "output_type": "stream",
          "text": [
            "   Month         Date                           Event\n",
            "0    Feb         1(수)                    휴 · 복학 접수 시작\n",
            "1    Feb  13(월)~17(금)                   2023-1학기 수강신청\n",
            "2    Feb  17(금)~23(목)                     2023-1학기 등록\n",
            "3    Feb        22(수)                        복학 접수 마감\n",
            "4    Feb        26(일)                            졸업예배\n",
            "5    Feb        27(월)                           학위수여식\n",
            "6    Mar         1(수)                             삼일절\n",
            "7    Mar         2(목)                      개강 / 교무위원회\n",
            "8    Mar    6(월)~8(수)                    수강신청 확인 및 변경\n",
            "9    Mar  10(금)~13(월)                   2023-1학기 추가등록\n",
            "10   Mar  13(월)~17(금)                         조기졸업 신청\n",
            "11   Mar        15(수)  미등록자 일반 휴학 접수 마감 / 등록금 전액반환 마감\n"
          ]
        }
      ],
      "source": [
        "import requests\n",
        "from bs4 import BeautifulSoup\n",
        "import pandas as pd\n",
        "\n",
        "soup = BeautifulSoup(requests.get('https://www.yonsei.ac.kr/sc/support/calendar.jsp').text, 'html.parser')\n",
        "data_feb = soup.find(class_ = 'tblH').text.split('FEB')[1].split('03 MAR')[0].replace('\\t','').split('\\n')\n",
        "list_feb = list(filter(None, data_feb))\n",
        "data_mar = soup.find(class_ = 'tblH').text.split('FEB')[1].split('03 MAR')[1].split('04 APR')[0].replace('\\t','').split('\\n')\n",
        "list_mar = list(filter(None, data_mar))\n",
        "\n",
        "table = []\n",
        "for i in range(int(len(list_feb)/2)):\n",
        "    table.append({\n",
        "    'Month': 'Feb',\n",
        "    'Date': list_feb[i*2].strip(),\n",
        "    'Event': list_feb[2*i+1].replace(u'\\xa0',u' ').strip()\n",
        "    })\n",
        "for i in range(int(len(list_mar)/2)):\n",
        "    table.append({\n",
        "    'Month': 'Mar',\n",
        "    'Date': list_mar[i*2].strip(),\n",
        "    'Event': list_mar[2*i+1].replace(u'\\xa0',u' ').strip()\n",
        "    })\n",
        "df = pd.DataFrame(table)\n",
        "\n",
        "print(df)"
      ]
    },
    {
      "attachments": {},
      "cell_type": "markdown",
      "metadata": {},
      "source": [
        "# 과제 2"
      ]
    },
    {
      "cell_type": "code",
      "execution_count": 2,
      "metadata": {},
      "outputs": [
        {
          "name": "stderr",
          "output_type": "stream",
          "text": [
            "/var/folders/x4/z7w83zkj1q92z10zj7s__cxc0000gn/T/ipykernel_6343/1533621198.py:10: DeprecationWarning: executable_path has been deprecated, please pass in a Service object\n",
            "  driver = webdriver.Chrome(ChromeDriverManager().install())\n"
          ]
        }
      ],
      "source": [
        "import selenium\n",
        "from selenium import webdriver\n",
        "from webdriver_manager.chrome import ChromeDriverManager\n",
        "from selenium.webdriver.common.by import By\n",
        "from selenium.webdriver.common.keys import Keys\n",
        "from PIL import Image\n",
        "from urllib import request\n",
        "from io import BytesIO\n",
        "\n",
        "driver = webdriver.Chrome(ChromeDriverManager().install())"
      ]
    },
    {
      "cell_type": "code",
      "execution_count": 3,
      "metadata": {},
      "outputs": [],
      "source": [
        "driver.get('https://www.naver.com/')\n",
        "search = driver.find_element(By.XPATH, '//*[@id=\"query\"]')\n",
        "search.send_keys('고려대학교')\n",
        "search.send_keys(Keys.RETURN)\n",
        "img = driver.find_element(By.XPATH, '//*[@id=\"main_pack\"]/div[2]/div[2]/div[1]/div/div[2]/a/img')\n",
        "url = img.get_attribute('src')\n",
        "res = request.urlopen(url).read()\n",
        "img = Image.open(BytesIO(res))\n",
        "\n",
        "img.show()"
      ]
    },
    {
      "cell_type": "code",
      "execution_count": 4,
      "metadata": {},
      "outputs": [],
      "source": [
        "driver.close()"
      ]
    }
  ],
  "metadata": {
    "colab": {
      "provenance": []
    },
    "kernelspec": {
      "display_name": "Python 3",
      "language": "python",
      "name": "python3"
    },
    "language_info": {
      "codemirror_mode": {
        "name": "ipython",
        "version": 3
      },
      "file_extension": ".py",
      "mimetype": "text/x-python",
      "name": "python",
      "nbconvert_exporter": "python",
      "pygments_lexer": "ipython3",
      "version": "3.9.6"
    },
    "vscode": {
      "interpreter": {
        "hash": "31f2aee4e71d21fbe5cf8b01ff0e069b9275f58929596ceb00d14d90e3e16cd6"
      }
    }
  },
  "nbformat": 4,
  "nbformat_minor": 0
}
